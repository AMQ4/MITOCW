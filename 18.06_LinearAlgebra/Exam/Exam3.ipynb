{
 "cells": [
  {
   "cell_type": "markdown",
   "id": "8770cae0",
   "metadata": {},
   "source": [
    "# <center>Exam3</center>"
   ]
  },
  {
   "cell_type": "markdown",
   "id": "970510fb",
   "metadata": {},
   "source": [
    "**$1$. (40 points)** Suppose $u$ is a unit vector in $R^n$, so $u^T u = 1$. This problem is about the $n$ by $n$\n",
    "symmetric matrix $H = I − 2u u^T$."
   ]
  },
  {
   "cell_type": "markdown",
   "id": "22dfe579",
   "metadata": {},
   "source": [
    "(a) Show directly that $H^2 = I$. Since $H = H^T$ , we now know that $H$ is not only\n",
    "symmetric but also __________"
   ]
  },
  {
   "cell_type": "markdown",
   "id": "6ed48842",
   "metadata": {},
   "source": [
    "$H^2 = (I − 2u u^T)^2 = $<br> \n",
    "$I^2 − 2 I 2u u^T + 4 (u u^T)^2 = $<br>\n",
    "$I - 4I + 4I = I$\n",
    "\n",
    "$H$ is also an **orthonormal matrix**."
   ]
  },
  {
   "cell_type": "markdown",
   "id": "6a02ca45",
   "metadata": {},
   "source": [
    "**(b)** One eigenvector of $H$ is $u$ itself. Find the corresponding eigenvalue."
   ]
  },
  {
   "cell_type": "markdown",
   "id": "231ac118",
   "metadata": {},
   "source": [
    "To find the corresponding eigenvalue of the $u$ eigenvector, we just do the multiplication:\n",
    "\n",
    "$Hu = (I − 2u u^T) u = u - 2u u^Tu = u - 2u = -u$<br>\n",
    "$\\lambda = -1$"
   ]
  },
  {
   "cell_type": "markdown",
   "id": "08cd2a75",
   "metadata": {},
   "source": [
    "**(c)** If $v$ is any vector perpendicular to $u$, show that $v$ is an eigenvector of $H$ and find the\n",
    "eigenvalue. With all these eigenvectors $v$, that eigenvalue must be repeated how many\n",
    "times? Is $H$ diagonalizable? Why or why not?"
   ]
  },
  {
   "cell_type": "markdown",
   "id": "2ec611eb",
   "metadata": {},
   "source": [
    "By doing the multiplication of $Hv$ we find that v is an eugenvector of $H$ with an eigenvalue of $1$:\n",
    "\n",
    "$Hv = (I − 2u u^T) v = u - 2u u^Tv = v - 0 = v$<br>\n",
    "$\\lambda = 1$\n",
    "\n",
    "Well, there are $n - 1$ independent orthonormal vectors to the vector $u$ associated with this eigenvalu, and hence, $H$ is diagonalizable."
   ]
  },
  {
   "cell_type": "markdown",
   "id": "2e74b4cc",
   "metadata": {},
   "source": [
    "**(d)** Find the diagonal entries $H_{11}$ and $H_{ii}$ in terms of $u_1$, $...$, $u_n$. Add up $H_{11} + ... + H_{nn}$ and\n",
    "separately add up the eigenvalues of $H$."
   ]
  },
  {
   "cell_type": "markdown",
   "id": "4e67f6c7",
   "metadata": {},
   "source": [
    "$H_{11} = 1 - 2u_1^2, H_{ii} = 1 - 2u_i^2$ <br>\n",
    "$H_{11} + ... + H_{nn} = n - 2u^Tu = n - 2 * 1 = n - 2$<br>\n",
    "$\\sum\\lambda_i = -1 + (n - 1) = n - 2$"
   ]
  },
  {
   "cell_type": "markdown",
   "id": "97b15316",
   "metadata": {},
   "source": [
    "**2. (30 points)** Suppose $A$ is a positive definite symmetric $n$ by $n$ matrix."
   ]
  },
  {
   "cell_type": "markdown",
   "id": "b9608ad2",
   "metadata": {},
   "source": [
    "**(a)** How do you know that $A^{−1}$ is also positive definite? (We know $A^{−1}$ is symmetric. I just\n",
    "had an e-mail from the International Monetary Fund with this question.)"
   ]
  },
  {
   "cell_type": "markdown",
   "id": "692bcdb4",
   "metadata": {},
   "source": [
    "Since $A^{-1}$ is symmetric, then all of it's eigenvalues are > 0, hence, it is a **positive definite** matrix."
   ]
  },
  {
   "cell_type": "markdown",
   "id": "2e646b5c",
   "metadata": {},
   "source": [
    "**(b)** Suppose $Q$ is any orthogonal $n$ by $n$ matrix. How do you know that $Q A Q^T = Q A Q^{−1}$\n",
    "is positive definite? Write down which test you are using."
   ]
  },
  {
   "cell_type": "markdown",
   "id": "dca5abe2",
   "metadata": {},
   "source": [
    "Using the test that A is positive definite iff $x^T A x > 0$:<br>\n",
    "$x^T Q A Q^T x = (Q^T x)^T A Q^T x$, which is $> 0$."
   ]
  },
  {
   "cell_type": "markdown",
   "id": "01cb8ad6",
   "metadata": {},
   "source": [
    "**(c)** Show that the block matrix $$B = \\begin{bmatrix} A & A \\\\ A & A \\end{bmatrix}$$\n",
    "is positive semidefinite. How do you know B is not positive definite?"
   ]
  },
  {
   "cell_type": "markdown",
   "id": "f61f47d1",
   "metadata": {},
   "source": [
    "$B$ is semidefinite matrix since $B$ is singular matrix with 0 eigenvalue."
   ]
  },
  {
   "cell_type": "markdown",
   "id": "4c34dc9b",
   "metadata": {},
   "source": [
    "**3. (30 points)** This question is about the matrix\n",
    "$$A = \\begin{bmatrix}0 & -1 \\\\ 4 & 0\\end{bmatrix}$$"
   ]
  },
  {
   "cell_type": "markdown",
   "id": "b30bacc2",
   "metadata": {},
   "source": [
    "**(a)** Find its eigenvalues and eigenvectors. <br>\n",
    "Write the vector $u(0) = \\begin{bmatrix} 2 \\\\ 0 \\end{bmatrix}$ as a combination of those eigenvectors."
   ]
  },
  {
   "cell_type": "code",
   "execution_count": 1,
   "id": "33067ada",
   "metadata": {},
   "outputs": [
    {
     "data": {
      "text/latex": [
       "$\\displaystyle \\left[\\begin{matrix}0 & -1\\\\4 & 0\\end{matrix}\\right]$"
      ],
      "text/plain": [
       "Matrix([\n",
       "[0, -1],\n",
       "[4,  0]])"
      ]
     },
     "execution_count": 1,
     "metadata": {},
     "output_type": "execute_result"
    }
   ],
   "source": [
    "import sympy as sp\n",
    "\n",
    "A = sp.Matrix([\n",
    "    [0, -1],\n",
    "    [4, 0]\n",
    "])\n",
    "\n",
    "A"
   ]
  },
  {
   "cell_type": "code",
   "execution_count": 2,
   "id": "4aaf1752",
   "metadata": {},
   "outputs": [
    {
     "data": {
      "text/plain": [
       "[(-2*I,\n",
       "  1,\n",
       "  [Matrix([\n",
       "   [-I/2],\n",
       "   [   1]])]),\n",
       " (2*I,\n",
       "  1,\n",
       "  [Matrix([\n",
       "   [I/2],\n",
       "   [  1]])])]"
      ]
     },
     "execution_count": 2,
     "metadata": {},
     "output_type": "execute_result"
    }
   ],
   "source": [
    "A.eigenvects()"
   ]
  },
  {
   "cell_type": "code",
   "execution_count": 3,
   "id": "0489f14f",
   "metadata": {},
   "outputs": [
    {
     "data": {
      "text/latex": [
       "$\\displaystyle \\left[\\begin{matrix}2 i\\\\- 2 i\\end{matrix}\\right]$"
      ],
      "text/plain": [
       "Matrix([\n",
       "[ 2*I],\n",
       "[-2*I]])"
      ]
     },
     "execution_count": 3,
     "metadata": {},
     "output_type": "execute_result"
    }
   ],
   "source": [
    "c1, c2 = sp.symbols('c1 c2')\n",
    "\n",
    "u0 = sp.Matrix([\n",
    "    [2],\n",
    "    [0]\n",
    "])\n",
    "\n",
    "eigenvectors = sp.Matrix.hstack(\n",
    "    A.eigenvects()[0][-1][0],\n",
    "    A.eigenvects()[1][-1][0]\n",
    ")\n",
    "\n",
    "c = eigenvectors.inv() * u0\n",
    "c"
   ]
  },
  {
   "cell_type": "markdown",
   "id": "d274f8f4",
   "metadata": {},
   "source": [
    "$u(0) = 2i\\begin{bmatrix} -i/2 \\\\ 1 \\end{bmatrix} - 2i\\begin{bmatrix} i/2 \\\\ 1 \\end{bmatrix}$"
   ]
  },
  {
   "cell_type": "markdown",
   "id": "94312435",
   "metadata": {},
   "source": [
    "**(b)** Solve the equation $du/dx = Au$ starting with the same vector $u(0)$ at time $t = 0$.\n",
    "In other words: the solution $u(t)$ is what combination of the eigenvectors of $A$"
   ]
  },
  {
   "cell_type": "markdown",
   "id": "a01acfec",
   "metadata": {},
   "source": [
    "$u(t) = c_1e^{\\lambda_1 t} x_1 + c_2e^{\\lambda_2 t} x_2 + ... + c_ne^{\\lambda_n t} x_n$<br>\n",
    "$u(t) = 2ie^{-2i t} \\begin{bmatrix}-i/2 \\\\ 1 \\end{bmatrix} - 2ie^{2i t} \\begin{bmatrix}i/2 \\\\ 1 \\end{bmatrix}$<br>\n",
    "$u(t) = e^{-2i t} \\begin{bmatrix} 1 \\\\ 2i \\end{bmatrix} + e^{2i t} \\begin{bmatrix} 1 \\\\ -2i \\end{bmatrix}$"
   ]
  },
  {
   "cell_type": "markdown",
   "id": "bedc5be6",
   "metadata": {},
   "source": [
    "**(c)** Find the 3 matrices in the Singular Value Decomposition $A = U \\sum V^T$ in two steps.<br>\n",
    "–First, compute $V$ and $\\sum$ using the matrix $A^T A$.<br>\n",
    "–Second, find the (orthonormal) columns of $U$."
   ]
  },
  {
   "cell_type": "code",
   "execution_count": 4,
   "id": "304ba05e",
   "metadata": {},
   "outputs": [
    {
     "data": {
      "text/latex": [
       "$\\displaystyle \\left[\\begin{matrix}0 & 1\\\\1 & 0\\end{matrix}\\right]$"
      ],
      "text/plain": [
       "Matrix([\n",
       "[0, 1],\n",
       "[1, 0]])"
      ]
     },
     "execution_count": 4,
     "metadata": {},
     "output_type": "execute_result"
    }
   ],
   "source": [
    "# First\n",
    "\n",
    "eigenvalvect = (A.T * A).eigenvects() # V is the eigenvectors of A.T * A and sigma is the square \n",
    "V = sp.Matrix.hstack(                 # diagonalized eigenvalue matrix  of A.T A\n",
    "    eigenvalvect[0][-1][0],\n",
    "    eigenvalvect[1][-1][0]\n",
    ")\n",
    "\n",
    "sigma = sp.Matrix([\n",
    "    [eigenvalvect[0][0] ** 0.5, 0],\n",
    "    [0, eigenvalvect[1][0] ** 0.5]\n",
    "])\n",
    "\n",
    "V"
   ]
  },
  {
   "cell_type": "code",
   "execution_count": 5,
   "id": "19334091",
   "metadata": {},
   "outputs": [
    {
     "data": {
      "text/latex": [
       "$\\displaystyle \\left[\\begin{matrix}1 & 0\\\\0 & 4.0\\end{matrix}\\right]$"
      ],
      "text/plain": [
       "Matrix([\n",
       "[1,   0],\n",
       "[0, 4.0]])"
      ]
     },
     "execution_count": 5,
     "metadata": {},
     "output_type": "execute_result"
    }
   ],
   "source": [
    "sigma"
   ]
  },
  {
   "cell_type": "code",
   "execution_count": 6,
   "id": "cb814c1f",
   "metadata": {},
   "outputs": [
    {
     "data": {
      "text/latex": [
       "$\\displaystyle \\left[\\begin{matrix}-1 & 0\\\\0 & 1.0\\end{matrix}\\right]$"
      ],
      "text/plain": [
       "Matrix([\n",
       "[-1,   0],\n",
       "[ 0, 1.0]])"
      ]
     },
     "execution_count": 6,
     "metadata": {},
     "output_type": "execute_result"
    }
   ],
   "source": [
    "U = A * V * sigma.inv()\n",
    "U"
   ]
  },
  {
   "cell_type": "code",
   "execution_count": 7,
   "id": "a6a946de",
   "metadata": {
    "scrolled": true
   },
   "outputs": [
    {
     "data": {
      "text/latex": [
       "$\\displaystyle \\left[\\begin{matrix}0 & -1\\\\4.0 & 0\\end{matrix}\\right]$"
      ],
      "text/plain": [
       "Matrix([\n",
       "[  0, -1],\n",
       "[4.0,  0]])"
      ]
     },
     "execution_count": 7,
     "metadata": {},
     "output_type": "execute_result"
    }
   ],
   "source": [
    "U * sigma * V # checking for equality"
   ]
  }
 ],
 "metadata": {
  "kernelspec": {
   "display_name": "Python 3 (ipykernel)",
   "language": "python",
   "name": "python3"
  },
  "language_info": {
   "codemirror_mode": {
    "name": "ipython",
    "version": 3
   },
   "file_extension": ".py",
   "mimetype": "text/x-python",
   "name": "python",
   "nbconvert_exporter": "python",
   "pygments_lexer": "ipython3",
   "version": "3.11.5"
  }
 },
 "nbformat": 4,
 "nbformat_minor": 5
}
