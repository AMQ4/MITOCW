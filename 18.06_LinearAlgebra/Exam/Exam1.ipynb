{
 "cells": [
  {
   "cell_type": "markdown",
   "id": "7ad7fcfe",
   "metadata": {},
   "source": [
    "# <center>Exam1</center>"
   ]
  },
  {
   "cell_type": "markdown",
   "id": "5be65380",
   "metadata": {},
   "source": [
    "1- Forward elimination changes $Ax = b$ to a row reduced $Rx = d$: the complete solution is:\n",
    "\n",
    "$$\n",
    "x = \\begin{bmatrix} 4 \\\\ 0 \\\\ 0 \\end{bmatrix} + c1\\begin{bmatrix} 2 \\\\ 1 \\\\ 0 \\end{bmatrix} + c2\\begin{bmatrix} 5 \\\\ 0 \\\\ 1 \\end{bmatrix}\n",
    "$$\n",
    "\n",
    "$\\quad$**(a) (14 points)** What is the $3$ by $3$ reduced row echelon matrix $R$ and what is $d$?\n",
    "\n",
    "\n",
    "$\\quad$**(b) (10 points)** If the process of elimination subtracted $3$ times row $1$ from row $2$ and then $5$ times row $1$ from row $3$, what matrix connects $R$ and $d$ to the original $A$ and $b$? Use this matrix to find $A$ and $b$."
   ]
  },
  {
   "cell_type": "markdown",
   "id": "74088cb0",
   "metadata": {},
   "source": [
    "**(a)** Matrix $A$ has $rank = 1$ meaning the last two rows are multiple of the first row (i.e., the last two rows are $0$ **vector**).\n",
    "\n",
    "$$R=[IF], \\quad N(A) = \\begin{bmatrix} -F \\\\ I\\end{bmatrix}$$ Basis of $N(A)$ are: $$\\begin{bmatrix} -2 \\\\ 1 \\\\ 0\\end{bmatrix}, \\begin{bmatrix} -5 \\\\ 0 \\\\ 1\\end{bmatrix}$$\n",
    "\n",
    "Hence, $R = \\begin{bmatrix} 1 & -2 & -5 \\\\ 0 & 0 & 0 \\\\ 0 & 0 & 0 \\end{bmatrix}$\n",
    "\n",
    "Next, doing the multiplication to find the value of the right hand side vector $d$, which says $d$ is $4$ times the first column of $R$, which is the vector $x$:"
   ]
  },
  {
   "cell_type": "code",
   "execution_count": 1,
   "id": "982cb1b4",
   "metadata": {},
   "outputs": [
    {
     "data": {
      "text/latex": [
       "$\\displaystyle \\left[\\begin{matrix}4\\\\0\\\\0\\end{matrix}\\right]$"
      ],
      "text/plain": [
       "Matrix([\n",
       "[4],\n",
       "[0],\n",
       "[0]])"
      ]
     },
     "execution_count": 1,
     "metadata": {},
     "output_type": "execute_result"
    }
   ],
   "source": [
    "import sympy as sp\n",
    "\n",
    "\n",
    "R = sp.Matrix([\n",
    "    [1, -2, -5],\n",
    "    [0, 0, 0],\n",
    "    [0, 0, 0]\n",
    "])\n",
    "\n",
    "x = sp.Matrix([\n",
    "    [4, 0, 0]\n",
    "])\n",
    "\n",
    "d = R * x.T\n",
    "d"
   ]
  },
  {
   "cell_type": "markdown",
   "id": "c6fc0eae",
   "metadata": {},
   "source": [
    "**(b)** After doing the elimination in that order in the qustion, we have matrix $E$ equals to:"
   ]
  },
  {
   "cell_type": "code",
   "execution_count": 2,
   "id": "bff87949",
   "metadata": {},
   "outputs": [],
   "source": [
    "E = sp.Matrix([\n",
    "    [1, 0, 0],\n",
    "    [-3, 1, 0],\n",
    "    [-5, 0, 1]\n",
    "]) # Elimination Matrix E"
   ]
  },
  {
   "cell_type": "markdown",
   "id": "87a8c594",
   "metadata": {},
   "source": [
    "The connection between this matrix $E$ with $A$ and $R$ is: <br>\n",
    "$EA = R$ <br>\n",
    "$A = E^{-1}R$\n",
    "$E^{-1}$ is the same as $E$ with opposite signs. By doing that multiplication, we have $A$:"
   ]
  },
  {
   "cell_type": "code",
   "execution_count": 3,
   "id": "cec86b5c",
   "metadata": {},
   "outputs": [
    {
     "data": {
      "text/latex": [
       "$\\displaystyle \\left[\\begin{matrix}1 & -2 & -5\\\\3 & -6 & -15\\\\5 & -10 & -25\\end{matrix}\\right]$"
      ],
      "text/plain": [
       "Matrix([\n",
       "[1,  -2,  -5],\n",
       "[3,  -6, -15],\n",
       "[5, -10, -25]])"
      ]
     },
     "execution_count": 3,
     "metadata": {},
     "output_type": "execute_result"
    }
   ],
   "source": [
    "A = E.inv() * R\n",
    "A"
   ]
  },
  {
   "cell_type": "markdown",
   "id": "c8d31894",
   "metadata": {},
   "source": [
    "After doing $Ax$, we have $b$:"
   ]
  },
  {
   "cell_type": "code",
   "execution_count": 4,
   "id": "bbc929b5",
   "metadata": {},
   "outputs": [
    {
     "data": {
      "text/latex": [
       "$\\displaystyle \\left[\\begin{matrix}4\\\\12\\\\20\\end{matrix}\\right]$"
      ],
      "text/plain": [
       "Matrix([\n",
       "[ 4],\n",
       "[12],\n",
       "[20]])"
      ]
     },
     "execution_count": 4,
     "metadata": {},
     "output_type": "execute_result"
    }
   ],
   "source": [
    "b = A * x.T\n",
    "b"
   ]
  },
  {
   "cell_type": "markdown",
   "id": "81fdbed0",
   "metadata": {},
   "source": [
    "2- Suppose A is the matrix:\n",
    "$$A = \\begin{bmatrix} 0 & 1 & 2 & 2 \\\\ 0 & 3 & 8 & 7 \\\\ 0 & 0 & 4 & 2 \\end{bmatrix}$$"
   ]
  },
  {
   "cell_type": "markdown",
   "id": "afc1750f",
   "metadata": {},
   "source": [
    "**(a) (16 points)** Find all special solutions to $Ax = 0$ and describe in words the whole\n",
    "nullspace of $A$"
   ]
  },
  {
   "cell_type": "markdown",
   "id": "9bd3964d",
   "metadata": {},
   "source": [
    "Since the first column is $0$ and we can not do row exchanging, we continue the elimination  process to other columns and apply `rref`, the next cell computes $R$:"
   ]
  },
  {
   "cell_type": "code",
   "execution_count": 5,
   "id": "064dc070",
   "metadata": {},
   "outputs": [
    {
     "data": {
      "text/latex": [
       "$\\displaystyle \\left[\\begin{matrix}0 & 1 & 0 & 1\\\\0 & 0 & 1 & \\frac{1}{2}\\\\0 & 0 & 0 & 0\\end{matrix}\\right]$"
      ],
      "text/plain": [
       "Matrix([\n",
       "[0, 1, 0,   1],\n",
       "[0, 0, 1, 1/2],\n",
       "[0, 0, 0,   0]])"
      ]
     },
     "execution_count": 5,
     "metadata": {},
     "output_type": "execute_result"
    }
   ],
   "source": [
    "A = sp.Matrix([\n",
    "    [0, 1, 2, 2],\n",
    "    [0, 3, 8, 7],\n",
    "    [0, 0, 4, 2]\n",
    "])\n",
    "\n",
    "A.rref()[0]"
   ]
  },
  {
   "cell_type": "markdown",
   "id": "fb8c6da4",
   "metadata": {},
   "source": [
    "Matrix $F = \n",
    "\\begin{bmatrix}\n",
    "0 & 1 \\\\ 0 & 1/2 \n",
    "\\end{bmatrix}$, $\\quad I = \\begin{bmatrix}1 & 0 \\\\ 0 & 1 \\end{bmatrix}$, $\\quad R = \\begin{bmatrix}I \\\\ -F \\end{bmatrix}, \\quad$N(A) = $c1\\begin{bmatrix}1 \\\\ 0 \\\\ 0 \\\\0 \\end{bmatrix} + c2 \\begin{bmatrix}0 \\\\ -1 \\\\ -1/2 \\\\1 \\end{bmatrix}$"
   ]
  },
  {
   "cell_type": "markdown",
   "id": "4a23703a",
   "metadata": {},
   "source": [
    "Double check:"
   ]
  },
  {
   "cell_type": "code",
   "execution_count": 6,
   "id": "3757f4bb",
   "metadata": {},
   "outputs": [
    {
     "data": {
      "text/plain": [
       "[Matrix([\n",
       " [1],\n",
       " [0],\n",
       " [0],\n",
       " [0]]),\n",
       " Matrix([\n",
       " [   0],\n",
       " [  -1],\n",
       " [-1/2],\n",
       " [   1]])]"
      ]
     },
     "execution_count": 6,
     "metadata": {},
     "output_type": "execute_result"
    }
   ],
   "source": [
    "A.nullspace()"
   ]
  },
  {
   "cell_type": "markdown",
   "id": "19b7d370",
   "metadata": {},
   "source": [
    "Nullspace of $A$ consistis of all liner combination of the special solutions to $Ax=0$ which are in $R^{4}$."
   ]
  },
  {
   "cell_type": "markdown",
   "id": "47fe4714",
   "metadata": {},
   "source": [
    "**(b) (10 points)** Describe the column space of this particular matrix $A$. “All combinations\n",
    "of the four columns” is not a sufficient answer."
   ]
  },
  {
   "cell_type": "markdown",
   "id": "e95e6e36",
   "metadata": {},
   "source": [
    "Column space of $A$, $C(A)$, it is a plan in $R^4$ consistis of all liner combination of pivot columns:\n",
    "$$C(A) = c1\\begin{bmatrix} 1 \\\\ 3 \\\\ 0 \\end{bmatrix} + c2\\begin{bmatrix} 2 \\\\ 8 \\\\ 4 \\end{bmatrix}$$"
   ]
  },
  {
   "cell_type": "markdown",
   "id": "6e213b21",
   "metadata": {},
   "source": [
    "**(c) (10 points)** What is the reduced row echelon form $R = rref(B)$ when $B$ is the $6$ by\n",
    "$8$ block matrix \n",
    "\n",
    "$$B = \\begin{bmatrix}A & A \\\\ A & A \\end{bmatrix}$$\n",
    "\n",
    "using the same $A$?"
   ]
  },
  {
   "cell_type": "markdown",
   "id": "3cd5d954",
   "metadata": {},
   "source": [
    "$B$ becomes $B = \\begin{bmatrix}A & A \\\\ 0 & 0 \\end{bmatrix}$ (subtract row 1 from row 2).\n",
    "Next, applying rref on each $A$:"
   ]
  },
  {
   "cell_type": "code",
   "execution_count": 7,
   "id": "749d4538",
   "metadata": {},
   "outputs": [
    {
     "data": {
      "text/latex": [
       "$\\displaystyle \\left[\\begin{matrix}0 & 1 & 0 & 1 & 0 & 1 & 0 & 1\\\\0 & 0 & 1 & \\frac{1}{2} & 0 & 0 & 1 & \\frac{1}{2}\\\\0 & 0 & 0 & 0 & 0 & 0 & 0 & 0\\\\0 & 0 & 0 & 0 & 0 & 0 & 0 & 0\\\\0 & 0 & 0 & 0 & 0 & 0 & 0 & 0\\\\0 & 0 & 0 & 0 & 0 & 0 & 0 & 0\\end{matrix}\\right]$"
      ],
      "text/plain": [
       "Matrix([\n",
       "[0, 1, 0,   1, 0, 1, 0,   1],\n",
       "[0, 0, 1, 1/2, 0, 0, 1, 1/2],\n",
       "[0, 0, 0,   0, 0, 0, 0,   0],\n",
       "[0, 0, 0,   0, 0, 0, 0,   0],\n",
       "[0, 0, 0,   0, 0, 0, 0,   0],\n",
       "[0, 0, 0,   0, 0, 0, 0,   0]])"
      ]
     },
     "execution_count": 7,
     "metadata": {},
     "output_type": "execute_result"
    }
   ],
   "source": [
    "B = sp.Matrix([\n",
    "    [A, A],\n",
    "    [A, A]\n",
    "])\n",
    "\n",
    "B.rref()[0]"
   ]
  },
  {
   "cell_type": "markdown",
   "id": "7fd2087d",
   "metadata": {},
   "source": [
    "3- **(16 points)** Circle the words that correctly complete the following sentence:<br>\n",
    " **(a)** Suppose a $3$ by $5$ matrix $A$ has rank $r = 3$. Then the equation $Ax = b$\n",
    "( always / sometimes but not always )\n",
    "has ( a unique solution / many solutions / no solution )."
   ]
  },
  {
   "cell_type": "markdown",
   "id": "e7834b51",
   "metadata": {},
   "source": [
    "A $3$ by $5$ matrix $A$ has rank $r = 3$ (i.e., full row rank matrix). Then the equation $Ax = b$ **always** has **many solutions** (becouse there is two free vars)."
   ]
  },
  {
   "cell_type": "markdown",
   "id": "52f4e25d",
   "metadata": {},
   "source": [
    "**(b)** What is the column space of $A$? Describe the nullspace of $A$."
   ]
  },
  {
   "cell_type": "markdown",
   "id": "76b177fe",
   "metadata": {},
   "source": [
    "$C(A)$ is all liner combination of the 3-pivot columns of $A$ in $R^3$ (i.e., the whole $R^3$). $N(A)$ consists of all liner combination of the rest two free variable vectors in $R^5$."
   ]
  },
  {
   "cell_type": "markdown",
   "id": "bce4deb4",
   "metadata": {},
   "source": [
    "4- Suppose that A is the matrix:\n",
    "$$A = \\begin{bmatrix}2 & 1 \\\\ 6 & 5 \\\\ 2 & 4 \\end{bmatrix}$$"
   ]
  },
  {
   "cell_type": "markdown",
   "id": "49c4c242",
   "metadata": {},
   "source": [
    "**(a) (10 points)** Explain in words how knowing all solutions to $Ax = b$ decides if a given\n",
    "vector $b$ is in the column space of $A$."
   ]
  },
  {
   "cell_type": "markdown",
   "id": "d58e0921",
   "metadata": {},
   "source": [
    "We augment that vector $b$ to matrix $A$ and apply rref to new augmented matrix $A$."
   ]
  },
  {
   "cell_type": "markdown",
   "id": "81565589",
   "metadata": {},
   "source": [
    "**(b) (14 points)** Is the vector $b = \\begin{bmatrix} 8 \\\\ 28 \\\\ 14 \\end{bmatrix}$ in the column space of $A$?"
   ]
  },
  {
   "cell_type": "code",
   "execution_count": 8,
   "id": "e8197222",
   "metadata": {},
   "outputs": [
    {
     "data": {
      "text/latex": [
       "$\\displaystyle \\left[\\begin{matrix}1 & 0 & 3\\\\0 & 1 & 2\\\\0 & 0 & 0\\end{matrix}\\right]$"
      ],
      "text/plain": [
       "Matrix([\n",
       "[1, 0, 3],\n",
       "[0, 1, 2],\n",
       "[0, 0, 0]])"
      ]
     },
     "execution_count": 8,
     "metadata": {},
     "output_type": "execute_result"
    }
   ],
   "source": [
    "A = sp.Matrix([\n",
    "    [2, 1],\n",
    "    [6, 5],\n",
    "    [2, 4]\n",
    "])\n",
    "b = sp.Matrix([8, 28, 14])\n",
    "\n",
    "A = A.row_join(b)\n",
    "A.rref()[0]"
   ]
  },
  {
   "cell_type": "markdown",
   "id": "c5585169",
   "metadata": {},
   "source": [
    "We have zero row below meaning that there is no contradictory. $x = c\\begin{bmatrix}3 \\\\ 2 \\end{bmatrix}$"
   ]
  }
 ],
 "metadata": {
  "kernelspec": {
   "display_name": "Python 3 (ipykernel)",
   "language": "python",
   "name": "python3"
  },
  "language_info": {
   "codemirror_mode": {
    "name": "ipython",
    "version": 3
   },
   "file_extension": ".py",
   "mimetype": "text/x-python",
   "name": "python",
   "nbconvert_exporter": "python",
   "pygments_lexer": "ipython3",
   "version": "3.11.5"
  }
 },
 "nbformat": 4,
 "nbformat_minor": 5
}
