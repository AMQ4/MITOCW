{
 "cells": [
  {
   "cell_type": "markdown",
   "id": "eaf34794",
   "metadata": {},
   "source": [
    "**1. (12 points)** This question is about the matrix\n",
    "$$A = \\begin{bmatrix}\n",
    "            1 & 2 & 0 & 1 \\\\ \n",
    "            2 & 4 & 1 & 4 \\\\\n",
    "            3 & 6 & 3 & 9\n",
    "      \\end{bmatrix}$$\n",
    "      \n",
    "**(a)** Find a lower triangular $L$ and an upper triangular $U$ so that $A = LU$."
   ]
  },
  {
   "cell_type": "code",
   "execution_count": 1,
   "id": "9b3a1960",
   "metadata": {},
   "outputs": [
    {
     "data": {
      "text/latex": [
       "$\\displaystyle \\left[\\begin{matrix}1 & 0 & 0\\\\2 & 1 & 0\\\\3 & 3 & 1\\end{matrix}\\right]$"
      ],
      "text/plain": [
       "Matrix([\n",
       "[1, 0, 0],\n",
       "[2, 1, 0],\n",
       "[3, 3, 1]])"
      ]
     },
     "execution_count": 1,
     "metadata": {},
     "output_type": "execute_result"
    }
   ],
   "source": [
    "import sympy as sp\n",
    "import numpy as np\n",
    "\n",
    "\n",
    "A = sp.Matrix([\n",
    "    [1, 2, 0, 1],\n",
    "    [2, 4, 1, 4],\n",
    "    [3, 6, 3, 9]\n",
    "])\n",
    "\n",
    "L, U, P = A.LUdecomposition()\n",
    "L"
   ]
  },
  {
   "cell_type": "code",
   "execution_count": 2,
   "id": "5ef25ade",
   "metadata": {},
   "outputs": [
    {
     "data": {
      "text/latex": [
       "$\\displaystyle \\left[\\begin{matrix}1 & 2 & 0 & 1\\\\0 & 0 & 1 & 2\\\\0 & 0 & 0 & 0\\end{matrix}\\right]$"
      ],
      "text/plain": [
       "Matrix([\n",
       "[1, 2, 0, 1],\n",
       "[0, 0, 1, 2],\n",
       "[0, 0, 0, 0]])"
      ]
     },
     "execution_count": 2,
     "metadata": {},
     "output_type": "execute_result"
    }
   ],
   "source": [
    "U"
   ]
  },
  {
   "cell_type": "code",
   "execution_count": 3,
   "id": "48b533ba",
   "metadata": {},
   "outputs": [
    {
     "data": {
      "text/plain": [
       "True"
      ]
     },
     "execution_count": 3,
     "metadata": {},
     "output_type": "execute_result"
    }
   ],
   "source": [
    "A == L * U"
   ]
  },
  {
   "cell_type": "markdown",
   "id": "e903fc61",
   "metadata": {},
   "source": [
    "**(b)** Find the reduced row echelon form $R = rref(A)$. How many independent columns in $A$?"
   ]
  },
  {
   "cell_type": "code",
   "execution_count": 4,
   "id": "45a3bd6a",
   "metadata": {},
   "outputs": [
    {
     "data": {
      "text/latex": [
       "$\\displaystyle \\left[\\begin{matrix}1 & 2 & 0 & 1\\\\0 & 0 & 1 & 2\\\\0 & 0 & 0 & 0\\end{matrix}\\right]$"
      ],
      "text/plain": [
       "Matrix([\n",
       "[1, 2, 0, 1],\n",
       "[0, 0, 1, 2],\n",
       "[0, 0, 0, 0]])"
      ]
     },
     "execution_count": 4,
     "metadata": {},
     "output_type": "execute_result"
    }
   ],
   "source": [
    "A.rref()[0]"
   ]
  },
  {
   "cell_type": "markdown",
   "id": "1ff68227",
   "metadata": {},
   "source": [
    "There are two independent columns in $A$."
   ]
  },
  {
   "cell_type": "markdown",
   "id": "987b0f14",
   "metadata": {},
   "source": [
    "**(c)** Find a basis for the nullspace of A."
   ]
  },
  {
   "cell_type": "code",
   "execution_count": 5,
   "id": "bd4cc501",
   "metadata": {},
   "outputs": [
    {
     "data": {
      "text/latex": [
       "$\\displaystyle \\left[\\begin{matrix}-2\\\\1\\\\0\\\\0\\end{matrix}\\right]$"
      ],
      "text/plain": [
       "Matrix([\n",
       "[-2],\n",
       "[ 1],\n",
       "[ 0],\n",
       "[ 0]])"
      ]
     },
     "execution_count": 5,
     "metadata": {},
     "output_type": "execute_result"
    }
   ],
   "source": [
    "A.nullspace()[0]"
   ]
  },
  {
   "cell_type": "code",
   "execution_count": 6,
   "id": "cf421e8f",
   "metadata": {},
   "outputs": [
    {
     "data": {
      "text/latex": [
       "$\\displaystyle \\left[\\begin{matrix}-1\\\\0\\\\-2\\\\1\\end{matrix}\\right]$"
      ],
      "text/plain": [
       "Matrix([\n",
       "[-1],\n",
       "[ 0],\n",
       "[-2],\n",
       "[ 1]])"
      ]
     },
     "execution_count": 6,
     "metadata": {},
     "output_type": "execute_result"
    }
   ],
   "source": [
    "A.nullspace()[1]"
   ]
  },
  {
   "cell_type": "markdown",
   "id": "7f1b8bfa",
   "metadata": {},
   "source": [
    "**(d)** If the vector $b$ is the sum of the four columns of $A$, write down the complete solution to\n",
    "$Ax = b$."
   ]
  },
  {
   "cell_type": "code",
   "execution_count": 7,
   "id": "8821ffbc",
   "metadata": {},
   "outputs": [
    {
     "data": {
      "text/latex": [
       "$\\displaystyle \\left[\\begin{matrix}4\\\\11\\\\21\\end{matrix}\\right]$"
      ],
      "text/plain": [
       "Matrix([\n",
       "[ 4],\n",
       "[11],\n",
       "[21]])"
      ]
     },
     "execution_count": 7,
     "metadata": {},
     "output_type": "execute_result"
    }
   ],
   "source": [
    "x_particular = sp.Matrix([\n",
    "    [1],\n",
    "    [1],\n",
    "    [1],\n",
    "    [1]\n",
    "])\n",
    "\n",
    "b = A * x_particular\n",
    "\n",
    "b"
   ]
  },
  {
   "cell_type": "markdown",
   "id": "26ce1355",
   "metadata": {},
   "source": [
    "$x = \\begin{bmatrix}\n",
    "          1 \\\\\n",
    "          1 \\\\\n",
    "          1 \\\\\n",
    "          1\n",
    "     \\end{bmatrix}$$\n",
    "     + c1\n",
    "     \\begin{bmatrix}\n",
    "          -2 \\\\\n",
    "          1  \\\\\n",
    "          0  \\\\\n",
    "          0\n",
    "     \\end{bmatrix}\n",
    "     +$ $c2\n",
    "     \\begin{bmatrix}\n",
    "          -1 \\\\\n",
    "          0  \\\\\n",
    "          -2 \\\\\n",
    "          1\n",
    "     \\end{bmatrix}$\n",
    "     "
   ]
  },
  {
   "cell_type": "markdown",
   "id": "9dff9ad8",
   "metadata": {},
   "source": [
    "**2. (11 points)** This problem finds the curve $y = C + D 2^t$ which gives the best least squares fit\n",
    "to the points $(t, y) = (0, 6),(1, 4),(2, 0)$."
   ]
  },
  {
   "cell_type": "markdown",
   "id": "ac35d4c9",
   "metadata": {},
   "source": [
    "**(a)** Write down the $3$ equations that would be satisfied if the curve went through all $3$ points."
   ]
  },
  {
   "cell_type": "markdown",
   "id": "205131cf",
   "metadata": {},
   "source": [
    "Just substitute the points:<br>\n",
    "$C + D2^0 = C + D = 6$<br>\n",
    "$C + D2^1 = C + 2D = 4$<br>\n",
    "$C + D2^2 = C + 4D = 0$<br>"
   ]
  },
  {
   "cell_type": "markdown",
   "id": "6b31aee7",
   "metadata": {},
   "source": [
    "**(b)** Find the coefficients $C$ and $D$ of the best curve $y = C + D2^t$"
   ]
  },
  {
   "cell_type": "markdown",
   "id": "bea509bd",
   "metadata": {},
   "source": [
    "Using the normal equations:"
   ]
  },
  {
   "cell_type": "code",
   "execution_count": 8,
   "id": "9630995d",
   "metadata": {},
   "outputs": [
    {
     "data": {
      "text/latex": [
       "$\\displaystyle \\left[\\begin{matrix}8\\\\-2\\end{matrix}\\right]$"
      ],
      "text/plain": [
       "Matrix([\n",
       "[ 8],\n",
       "[-2]])"
      ]
     },
     "execution_count": 8,
     "metadata": {},
     "output_type": "execute_result"
    }
   ],
   "source": [
    "A = sp.Matrix([\n",
    "    [1, 1],\n",
    "    [1, 2],\n",
    "    [1, 4]\n",
    "])\n",
    "\n",
    "y = sp.Matrix([\n",
    "    [6],\n",
    "    [4],\n",
    "    [0]\n",
    "])\n",
    "\n",
    "best_theta = (A.T * A).inv() * A.T * y\n",
    "best_theta"
   ]
  },
  {
   "cell_type": "markdown",
   "id": "408c1885",
   "metadata": {},
   "source": [
    "Using the pseudoinverse:"
   ]
  },
  {
   "cell_type": "code",
   "execution_count": 9,
   "id": "2e09bc10",
   "metadata": {},
   "outputs": [
    {
     "data": {
      "text/latex": [
       "$\\displaystyle \\left[\\begin{matrix}8\\\\-2\\end{matrix}\\right]$"
      ],
      "text/plain": [
       "Matrix([\n",
       "[ 8],\n",
       "[-2]])"
      ]
     },
     "execution_count": 9,
     "metadata": {},
     "output_type": "execute_result"
    }
   ],
   "source": [
    "A.pinv() * y"
   ]
  },
  {
   "cell_type": "markdown",
   "id": "507d226a",
   "metadata": {},
   "source": [
    "**(c)** What values should $y$ have at times $t = 0, 1, 2$ so that the best curve is $y = 0$?"
   ]
  },
  {
   "cell_type": "markdown",
   "id": "42ebe3f3",
   "metadata": {},
   "source": [
    "The question is asking about the vector y that projected onto the zero vector. (it asking about the ***nullspace*** of $P$)<br>\n",
    "The projection matrix $P$:"
   ]
  },
  {
   "cell_type": "code",
   "execution_count": 10,
   "id": "73b6e4de",
   "metadata": {},
   "outputs": [
    {
     "data": {
      "text/latex": [
       "$\\displaystyle \\left[\\begin{matrix}1 & \\frac{1}{2} & - \\frac{1}{2}\\\\- \\frac{2}{7} & - \\frac{1}{14} & \\frac{5}{14}\\end{matrix}\\right]$"
      ],
      "text/plain": [
       "Matrix([\n",
       "[   1,   1/2, -1/2],\n",
       "[-2/7, -1/14, 5/14]])"
      ]
     },
     "execution_count": 10,
     "metadata": {},
     "output_type": "execute_result"
    }
   ],
   "source": [
    "P = (A.T * A).inv() * A.T\n",
    "P"
   ]
  },
  {
   "cell_type": "code",
   "execution_count": 11,
   "id": "28dd93a5",
   "metadata": {},
   "outputs": [
    {
     "data": {
      "text/latex": [
       "$\\displaystyle \\left[\\begin{matrix}2\\\\-3\\\\1\\end{matrix}\\right]$"
      ],
      "text/plain": [
       "Matrix([\n",
       "[ 2],\n",
       "[-3],\n",
       "[ 1]])"
      ]
     },
     "execution_count": 11,
     "metadata": {},
     "output_type": "execute_result"
    }
   ],
   "source": [
    "P.nullspace()[0]"
   ]
  },
  {
   "cell_type": "markdown",
   "id": "ac2ed2fd",
   "metadata": {},
   "source": [
    "and all linear combination of this line:"
   ]
  },
  {
   "cell_type": "markdown",
   "id": "0ef114cb",
   "metadata": {},
   "source": [
    "$c \\begin{bmatrix} 2 \\\\ -3 \\\\ 1 \\end{bmatrix}$"
   ]
  },
  {
   "cell_type": "markdown",
   "id": "f20de18d",
   "metadata": {},
   "source": [
    "**3. (11 points)** Suppose $Av_i = b_i$ for the vectors $v_1,..., v_n$ and $b_1,..., b_n$ in $R^n$. Put the $v$’s into\n",
    "the columns of $V$ and put the $b$’s into the columns of $B$."
   ]
  },
  {
   "cell_type": "markdown",
   "id": "fc2b1ddd",
   "metadata": {},
   "source": [
    "**(a)** Write those equations $Av_i = b_i$ in matrix form. What condition on which vectors allows $A$\n",
    "to be determined uniquely? Assuming this condition, find $A$ from $V$ and $B$."
   ]
  },
  {
   "cell_type": "markdown",
   "id": "282baab7",
   "metadata": {},
   "source": [
    "$A = B V^{-1}$<br>\n",
    "Matrix $V$ should be ***invertable*** matrix."
   ]
  },
  {
   "cell_type": "markdown",
   "id": "313b99e0",
   "metadata": {},
   "source": [
    "**(b)** Describe the column space of that matrix $A$ in terms of the given vectors."
   ]
  },
  {
   "cell_type": "markdown",
   "id": "da235178",
   "metadata": {},
   "source": [
    "The vectors of the columns of matrix $B$ ***spans*** the columnspace of the matrix $A$, $C(A)$."
   ]
  },
  {
   "cell_type": "markdown",
   "id": "8f020b4b",
   "metadata": {},
   "source": [
    "**(c)** What additional condition on which vectors makes $A$ an invertible matrix? Assuming this,\n",
    "find $A^{−1}$ from $V$ and $B$."
   ]
  },
  {
   "cell_type": "markdown",
   "id": "0472c37b",
   "metadata": {},
   "source": [
    "Matrix $B$ should be ***invertable*** matrix.<br>\n",
    "$A^{-1} = V B^{-1}$<br>"
   ]
  },
  {
   "cell_type": "markdown",
   "id": "c21abe89",
   "metadata": {},
   "source": [
    "**4. (11 points)**"
   ]
  },
  {
   "cell_type": "markdown",
   "id": "ba0503c1",
   "metadata": {},
   "source": [
    "**(a)** Suppose $x_k$ is the fraction of MIT students who prefer calculus to linear algebra at year $k$.\n",
    "The remaining fraction $y_k = 1 − x_k$ prefers linear algebra"
   ]
  },
  {
   "cell_type": "markdown",
   "id": "bde92a0f",
   "metadata": {},
   "source": [
    "At year $k + 1$, $1/5$ of those who prefer calculus change their mind (possibly after taking\n",
    "18.03). Also at year $k + 1$, $1/10$ of those who prefer linear algebra change their mind\n",
    "(possibly because of this exam).\n",
    "\n",
    "Create the matrix $A$ to give $\\begin{bmatrix} x_{k+1} \\\\ y_{k+1} \\end{bmatrix} = A \\begin{bmatrix} x_{k} \\\\ y_{k} \\end{bmatrix}$ and find the limit of $A^k \\begin{bmatrix} 1 \\\\ 0 \\end{bmatrix}$ as $k \\to \\infty$."
   ]
  },
  {
   "cell_type": "markdown",
   "id": "794477af",
   "metadata": {},
   "source": [
    "Matrix $A$ would be:<br>\n",
    "$A = \\begin{bmatrix} \n",
    "        1 - 1/5 & 1/10 \\\\ \n",
    "        1/5 & 1 - 1/10\n",
    "     \\end{bmatrix}\n",
    "$"
   ]
  },
  {
   "cell_type": "code",
   "execution_count": 12,
   "id": "c70b721f",
   "metadata": {},
   "outputs": [
    {
     "data": {
      "text/latex": [
       "$\\displaystyle \\left[\\begin{matrix}0.8 xk + 0.1 yk\\\\0.2 xk + 0.9 yk\\end{matrix}\\right]$"
      ],
      "text/plain": [
       "Matrix([\n",
       "[0.8*xk + 0.1*yk],\n",
       "[0.2*xk + 0.9*yk]])"
      ]
     },
     "execution_count": 12,
     "metadata": {},
     "output_type": "execute_result"
    }
   ],
   "source": [
    "xk, yk = sp.symbols('xk yk')\n",
    "\n",
    "x = sp.Matrix([\n",
    "    [xk],\n",
    "    [yk]\n",
    "])\n",
    "\n",
    "A = sp.Matrix([\n",
    "    [1 - 1/5, 1/10],\n",
    "    [1/5, 1 - 1/10]\n",
    "])\n",
    "\n",
    "A * x"
   ]
  },
  {
   "cell_type": "markdown",
   "id": "e5060b19",
   "metadata": {},
   "source": [
    "$A^k \\begin{bmatrix} 1 \\\\ 0 \\end{bmatrix}$ as $k \\to \\infty$:<br>\n",
    "$c_1 \\lambda^k_1x_1$"
   ]
  },
  {
   "cell_type": "code",
   "execution_count": 13,
   "id": "5cdf07f6",
   "metadata": {
    "scrolled": true
   },
   "outputs": [
    {
     "data": {
      "text/latex": [
       "$\\displaystyle \\left[\\begin{matrix}0.471404520791032\\\\0.942809041582063\\end{matrix}\\right]$"
      ],
      "text/plain": [
       "Matrix([\n",
       "[0.471404520791032],\n",
       "[0.942809041582063]])"
      ]
     },
     "execution_count": 13,
     "metadata": {},
     "output_type": "execute_result"
    }
   ],
   "source": [
    "x1 = A.eigenvects()[1][-1][0]\n",
    "x1"
   ]
  },
  {
   "cell_type": "code",
   "execution_count": 14,
   "id": "824c50b7",
   "metadata": {},
   "outputs": [
    {
     "data": {
      "text/latex": [
       "$\\displaystyle \\left[\\begin{matrix}0.707106781186548\\\\0.942809041582063\\end{matrix}\\right]$"
      ],
      "text/plain": [
       "Matrix([\n",
       "[0.707106781186548],\n",
       "[0.942809041582063]])"
      ]
     },
     "execution_count": 14,
     "metadata": {},
     "output_type": "execute_result"
    }
   ],
   "source": [
    "c = sp.Matrix.hstack(A.eigenvects()[1][-1][0], A.eigenvects()[0][-1][0]).inv() * sp.Matrix([\n",
    "    [1],\n",
    "    [0]\n",
    "])\n",
    "c"
   ]
  },
  {
   "cell_type": "markdown",
   "id": "0181c9ee",
   "metadata": {},
   "source": [
    "$A^k \\begin{bmatrix} 1 \\\\ 0 \\end{bmatrix}$ as $k \\to \\infty$:"
   ]
  },
  {
   "cell_type": "code",
   "execution_count": 15,
   "id": "4d60a0cc",
   "metadata": {},
   "outputs": [
    {
     "data": {
      "text/latex": [
       "$\\displaystyle \\left[\\begin{matrix}0.333333333333333\\\\0.666666666666667\\end{matrix}\\right]$"
      ],
      "text/plain": [
       "Matrix([\n",
       "[0.333333333333333],\n",
       "[0.666666666666667]])"
      ]
     },
     "execution_count": 15,
     "metadata": {},
     "output_type": "execute_result"
    }
   ],
   "source": [
    "c[0] * x1"
   ]
  },
  {
   "cell_type": "markdown",
   "id": "fc134271",
   "metadata": {},
   "source": [
    "**(b)** Solve these differential equations, starting from $x(0) = 1, y(0) = 0$ :<br>\n",
    "$dx/dy = 3x − 4y \\quad dy/dt= 2x − 3y$."
   ]
  },
  {
   "cell_type": "code",
   "execution_count": 16,
   "id": "4a25e092",
   "metadata": {},
   "outputs": [
    {
     "data": {
      "text/latex": [
       "$\\displaystyle \\left[\\begin{matrix}3 & -4\\\\2 & -3\\end{matrix}\\right]$"
      ],
      "text/plain": [
       "Matrix([\n",
       "[3, -4],\n",
       "[2, -3]])"
      ]
     },
     "execution_count": 16,
     "metadata": {},
     "output_type": "execute_result"
    }
   ],
   "source": [
    "u0 = sp.Matrix([\n",
    "    [1],\n",
    "    [0]\n",
    "])\n",
    "\n",
    "A = sp.Matrix([\n",
    "    [3, -4],\n",
    "    [2, -3]\n",
    "])\n",
    "\n",
    "A"
   ]
  },
  {
   "cell_type": "code",
   "execution_count": 17,
   "id": "c59392e3",
   "metadata": {},
   "outputs": [
    {
     "data": {
      "text/plain": [
       "[(-1,\n",
       "  1,\n",
       "  [Matrix([\n",
       "   [1],\n",
       "   [1]])]),\n",
       " (1,\n",
       "  1,\n",
       "  [Matrix([\n",
       "   [2],\n",
       "   [1]])])]"
      ]
     },
     "execution_count": 17,
     "metadata": {},
     "output_type": "execute_result"
    }
   ],
   "source": [
    "A.eigenvects()"
   ]
  },
  {
   "cell_type": "code",
   "execution_count": 18,
   "id": "e4739e25",
   "metadata": {},
   "outputs": [
    {
     "data": {
      "text/latex": [
       "$\\displaystyle \\left[\\begin{matrix}-1\\\\1\\end{matrix}\\right]$"
      ],
      "text/plain": [
       "Matrix([\n",
       "[-1],\n",
       "[ 1]])"
      ]
     },
     "execution_count": 18,
     "metadata": {},
     "output_type": "execute_result"
    }
   ],
   "source": [
    "x1 = A.eigenvects()[0][-1][0]\n",
    "x2 = A.eigenvects()[1][-1][0]\n",
    "\n",
    "lambda1 = A.eigenvects()[0][0]\n",
    "lambda2 = A.eigenvects()[1][0]\n",
    "\n",
    "c = sp.Matrix.hstack(x1, x2).inv() * u0\n",
    "c"
   ]
  },
  {
   "cell_type": "markdown",
   "id": "e02d23b4",
   "metadata": {},
   "source": [
    "$u(t) = e^{t} \\begin{bmatrix}2 \\\\ 1 \\end{bmatrix} - e^{-t} \\begin{bmatrix}1 \\\\ 1 \\end{bmatrix}$"
   ]
  },
  {
   "cell_type": "markdown",
   "id": "37d0f5ec",
   "metadata": {},
   "source": [
    "**(c)** For what initial conditions $\\begin{bmatrix} x(0) \\\\ y(0) \\end{bmatrix}$ does the solution to this differential equation\n",
    "$\\begin{bmatrix} x(t) \\\\ y(t) \\end{bmatrix}$\n",
    "lie on a single straight line in R2 for all $t$?"
   ]
  },
  {
   "cell_type": "markdown",
   "id": "3f9c626e",
   "metadata": {},
   "source": [
    "When the starting point $\\begin{bmatrix} x(0) \\\\ y(0) \\end{bmatrix}$ lies along one of the eigenvectors."
   ]
  },
  {
   "cell_type": "markdown",
   "id": "cd60b923",
   "metadata": {},
   "source": [
    "**5. (11 points)**"
   ]
  },
  {
   "cell_type": "markdown",
   "id": "e004c518",
   "metadata": {},
   "source": [
    "**(a)** Consider a $120^\\circ$ rotation around the axis $x = y = z$. Show that the vector $i = (1, 0, 0)$ is\n",
    "rotated to the vector $j = (0, 1, 0)$. (Similarly $j$ is rotated to $k = (0, 0, 1)$ and $k$ is rotated to\n",
    "$i$.) How is $j − i$ related to the vector $(1, 1, 1)$ along the axis?"
   ]
  },
  {
   "cell_type": "markdown",
   "id": "d551e87b",
   "metadata": {},
   "source": [
    "$j - i$ is the projection vector $e$ onto this axis $(1, 1, 1)$ which is perpendicular to it:"
   ]
  },
  {
   "cell_type": "code",
   "execution_count": 19,
   "id": "5183ec3e",
   "metadata": {},
   "outputs": [
    {
     "data": {
      "text/latex": [
       "$\\displaystyle \\left[\\begin{matrix}-1\\\\1\\\\0\\end{matrix}\\right]$"
      ],
      "text/plain": [
       "Matrix([\n",
       "[-1],\n",
       "[ 1],\n",
       "[ 0]])"
      ]
     },
     "execution_count": 19,
     "metadata": {},
     "output_type": "execute_result"
    }
   ],
   "source": [
    "i = sp.Matrix([\n",
    "    [1],\n",
    "    [0],\n",
    "    [0]\n",
    "])\n",
    "\n",
    "j = sp.Matrix([\n",
    "    [0],\n",
    "    [1],\n",
    "    [0]\n",
    "])\n",
    "\n",
    "axis = sp.Matrix([\n",
    "    [1],\n",
    "    [1],\n",
    "    [1]\n",
    "])\n",
    "\n",
    "e = j - i\n",
    "e"
   ]
  },
  {
   "cell_type": "markdown",
   "id": "22f50720",
   "metadata": {},
   "source": [
    "**(b)** Find the matrix $A$ that produces this rotation (so $Av$ is the rotation of $v$). Explain why\n",
    "$A^3 = I$. What are the eigenvalues of $A$?"
   ]
  },
  {
   "cell_type": "markdown",
   "id": "a5dd6fa8",
   "metadata": {},
   "source": [
    "To find matrix $A$, write $$T(v_{i}) = \\sum_{i}\\sum_{j} a_{ji}v_i, 1 \\leq i, j \\leq 3$$ Then A:"
   ]
  },
  {
   "cell_type": "code",
   "execution_count": 20,
   "id": "79b94fd6",
   "metadata": {},
   "outputs": [
    {
     "data": {
      "text/latex": [
       "$\\displaystyle \\left[\\begin{matrix}0 & 0 & 1\\\\1 & 0 & 0\\\\0 & 1 & 0\\end{matrix}\\right]$"
      ],
      "text/plain": [
       "Matrix([\n",
       "[0, 0, 1],\n",
       "[1, 0, 0],\n",
       "[0, 1, 0]])"
      ]
     },
     "execution_count": 20,
     "metadata": {},
     "output_type": "execute_result"
    }
   ],
   "source": [
    "A = sp.Matrix([\n",
    "    [0, 0, 1],\n",
    "    [1, 0, 0],\n",
    "    [0, 1, 0]\n",
    "])\n",
    "\n",
    "A"
   ]
  },
  {
   "cell_type": "markdown",
   "id": "a311dc44",
   "metadata": {},
   "source": [
    "Why $A^3$ coz we rotate other $360^\\circ$ ($120 * 3$):"
   ]
  },
  {
   "cell_type": "code",
   "execution_count": 21,
   "id": "f8bc3a7a",
   "metadata": {},
   "outputs": [
    {
     "data": {
      "text/latex": [
       "$\\displaystyle \\left[\\begin{matrix}1 & 0 & 0\\\\0 & 1 & 0\\\\0 & 0 & 1\\end{matrix}\\right]$"
      ],
      "text/plain": [
       "Matrix([\n",
       "[1, 0, 0],\n",
       "[0, 1, 0],\n",
       "[0, 0, 1]])"
      ]
     },
     "execution_count": 21,
     "metadata": {},
     "output_type": "execute_result"
    }
   ],
   "source": [
    "A ** 3"
   ]
  },
  {
   "cell_type": "markdown",
   "id": "7a350b3b",
   "metadata": {},
   "source": [
    "**(c)** If a $3$ by $3$ matrix $P$ projects every vector onto the plane $x+2y+z = 0$, find three eigenvalues\n",
    "and three independent eigenvectors of $P$. No need to compute $P$."
   ]
  },
  {
   "cell_type": "markdown",
   "id": "884f9223",
   "metadata": {},
   "source": [
    "Any projection matrix $P$ has two eigenvalues, $0$ or $1$, for any orthognal vector on the space, and any vector in the space. The eigenvectors corresponding to these eigenvalues are $(-1, 1, -1), (1, 2, 1)$ and we can choose any third eigenvector not in the same direction of the previous ones.\n"
   ]
  },
  {
   "cell_type": "markdown",
   "id": "413ef0a0",
   "metadata": {},
   "source": [
    "$6$. **(11 points)** This problem is about the matrix:\n",
    "$$A = \\begin{bmatrix} 1 & 2 \\\\ 2 & 4 \\\\ 3 & 6 \\end{bmatrix}$$"
   ]
  },
  {
   "cell_type": "markdown",
   "id": "b7a13d00",
   "metadata": {},
   "source": [
    "**(a)** Find the eigenvalues of $A^T A$ and also of $AA^T$. For both matrices find a complete set of\n",
    "orthonormal eigenvectors."
   ]
  },
  {
   "cell_type": "markdown",
   "id": "46d0bfe9",
   "metadata": {},
   "source": [
    "The eigenvalues of $A^T$ and $AA^T$ are equivalent to each others, which can be found using **SVD**:"
   ]
  },
  {
   "cell_type": "code",
   "execution_count": 22,
   "id": "7bbcd3ab",
   "metadata": {},
   "outputs": [
    {
     "data": {
      "text/plain": [
       "array([8.36660027e+00, 7.32018325e-16])"
      ]
     },
     "execution_count": 22,
     "metadata": {},
     "output_type": "execute_result"
    }
   ],
   "source": [
    "A = np.array([\n",
    "    [1, 2],\n",
    "    [2, 4],\n",
    "    [3, 6]\n",
    "])\n",
    "\n",
    "U, S, V = np.linalg.svd(A)\n",
    "S # eigenvalues of A^TA and AA^T"
   ]
  },
  {
   "cell_type": "markdown",
   "id": "3937926a",
   "metadata": {},
   "source": [
    "Complete set of orthogonal eigenvectors:"
   ]
  },
  {
   "cell_type": "code",
   "execution_count": 23,
   "id": "2edacef2",
   "metadata": {},
   "outputs": [
    {
     "data": {
      "text/plain": [
       "array([[-0.26726124,  0.94816592,  0.17190932],\n",
       "       [-0.53452248,  0.00256504, -0.84515036],\n",
       "       [-0.80178373, -0.31776533,  0.50613047]])"
      ]
     },
     "execution_count": 23,
     "metadata": {},
     "output_type": "execute_result"
    }
   ],
   "source": [
    "U"
   ]
  },
  {
   "cell_type": "code",
   "execution_count": 24,
   "id": "9585550c",
   "metadata": {},
   "outputs": [
    {
     "data": {
      "text/plain": [
       "array([[-0.4472136 , -0.89442719],\n",
       "       [-0.89442719,  0.4472136 ]])"
      ]
     },
     "execution_count": 24,
     "metadata": {},
     "output_type": "execute_result"
    }
   ],
   "source": [
    "V"
   ]
  },
  {
   "cell_type": "markdown",
   "id": "ed725c8d",
   "metadata": {},
   "source": [
    "**(b)** If you apply the Gram-Schmidt process (orthonormalization) to the columns of this matrix\n",
    "A, what is the resulting output?"
   ]
  },
  {
   "cell_type": "markdown",
   "id": "b17a0983",
   "metadata": {},
   "source": [
    "We can normalize one of the columns, but we can not project them on each other since they are in the same direction:"
   ]
  },
  {
   "cell_type": "code",
   "execution_count": 25,
   "id": "357259cb",
   "metadata": {},
   "outputs": [
    {
     "data": {
      "text/latex": [
       "$\\displaystyle \\left[\\begin{matrix}\\frac{\\sqrt{14}}{14}\\\\\\frac{\\sqrt{14}}{7}\\\\\\frac{3 \\sqrt{14}}{14}\\end{matrix}\\right]$"
      ],
      "text/plain": [
       "Matrix([\n",
       "[  sqrt(14)/14],\n",
       "[   sqrt(14)/7],\n",
       "[3*sqrt(14)/14]])"
      ]
     },
     "execution_count": 25,
     "metadata": {},
     "output_type": "execute_result"
    }
   ],
   "source": [
    "A = sp.Matrix(A)\n",
    "A[:, 0].normalized()"
   ]
  },
  {
   "cell_type": "markdown",
   "id": "77260960",
   "metadata": {},
   "source": [
    "**(c)** If $A$ is any $m$ by $n$ matrix with $m > n$, tell me why $AA^T$ cannot be positive definite. Is\n",
    "$A^T A$ always positive definite? (If not, what is the test on $A$?)"
   ]
  },
  {
   "cell_type": "markdown",
   "id": "390594f5",
   "metadata": {},
   "source": [
    "$A A^T$ can not be positive definite since it will a singular matrix. Any matrix A with $m > n$ has a non trivial vector $x$ such that $Ax = 0$.\n",
    "\n",
    "$A^T A$ always positive definite when $A$ is invertable and for any non zero vector $x$, $x^T (A^T A) x > 0$."
   ]
  },
  {
   "cell_type": "markdown",
   "id": "20cde8c7",
   "metadata": {},
   "source": [
    "**7. (11 points)** This problem is to find the determinants of\n",
    "$$A = \n",
    "\\begin{bmatrix} \n",
    "1 & 1 & 1 & 1 \\\\\n",
    "1 & 1 & 1 & 1 \\\\\n",
    "1 & 1 & 1 & 0 \\\\\n",
    "1 & 1 & 0 & 0 \n",
    "\\end{bmatrix} \\quad\n",
    "B = \n",
    "\\begin{bmatrix} \n",
    "0 & 1 & 1 & 1 \\\\\n",
    "1 & 1 & 1 & 1 \\\\\n",
    "1 & 1 & 1 & 0 \\\\\n",
    "1 & 1 & 0 & 0 \n",
    "\\end{bmatrix} \\quad\n",
    "C = \n",
    "\\begin{bmatrix} \n",
    "x & 1 & 1 & 1 \\\\\n",
    "1 & 1 & 1 & 1 \\\\\n",
    "1 & 1 & 1 & 0 \\\\\n",
    "1 & 1 & 0 & 0 \n",
    "\\end{bmatrix} \\quad\n",
    "$$"
   ]
  },
  {
   "cell_type": "markdown",
   "id": "6aec4a34",
   "metadata": {},
   "source": [
    "**(a)** Find det $A$ and give a reason."
   ]
  },
  {
   "cell_type": "markdown",
   "id": "87621fcd",
   "metadata": {},
   "source": [
    "det($A$) is zero, since it has a repeated columns (first and second columns)."
   ]
  },
  {
   "cell_type": "code",
   "execution_count": 26,
   "id": "0feed657",
   "metadata": {},
   "outputs": [
    {
     "data": {
      "text/latex": [
       "$\\displaystyle 0$"
      ],
      "text/plain": [
       "0"
      ]
     },
     "execution_count": 26,
     "metadata": {},
     "output_type": "execute_result"
    }
   ],
   "source": [
    "A = sp.Matrix([\n",
    "    [1, 1, 1, 1],\n",
    "    [1, 1, 1, 1],\n",
    "    [1, 1, 1, 0],\n",
    "    [1, 1, 0, 0],\n",
    "])\n",
    "\n",
    "A.det()"
   ]
  },
  {
   "cell_type": "markdown",
   "id": "d69c8a8b",
   "metadata": {},
   "source": [
    "**(b)** Find the cofactor $C_{11}$ and then find det $B$. This is the volume of what region in R4?"
   ]
  },
  {
   "cell_type": "code",
   "execution_count": 27,
   "id": "95915a61",
   "metadata": {},
   "outputs": [
    {
     "data": {
      "text/latex": [
       "$\\displaystyle -1$"
      ],
      "text/plain": [
       "-1"
      ]
     },
     "execution_count": 27,
     "metadata": {},
     "output_type": "execute_result"
    }
   ],
   "source": [
    "C11 = A[1:, 1:]\n",
    "C11.det()"
   ]
  },
  {
   "cell_type": "code",
   "execution_count": 28,
   "id": "0e417ec2",
   "metadata": {},
   "outputs": [
    {
     "data": {
      "text/latex": [
       "$\\displaystyle 1$"
      ],
      "text/plain": [
       "1"
      ]
     },
     "execution_count": 28,
     "metadata": {},
     "output_type": "execute_result"
    }
   ],
   "source": [
    "B = sp.Matrix([\n",
    "    [0, 1, 1, 1],\n",
    "    [1, 1, 1, 1],\n",
    "    [1, 1, 1, 0],\n",
    "    [1, 1, 0, 0],\n",
    "])\n",
    "\n",
    "B.det()"
   ]
  },
  {
   "cell_type": "markdown",
   "id": "82580303",
   "metadata": {},
   "source": [
    "Det of $B$ is equal to the volume of the box with edges of rows of $B$ in $\\mathbb{R}^4$"
   ]
  },
  {
   "cell_type": "markdown",
   "id": "2eb23e84",
   "metadata": {},
   "source": [
    "det ($C$) $=$ $xC_{11}$ + det ($B$) $= −x + 1$."
   ]
  },
  {
   "cell_type": "markdown",
   "id": "9135896d",
   "metadata": {},
   "source": [
    "**8. (11 points)**"
   ]
  },
  {
   "cell_type": "markdown",
   "id": "6188895d",
   "metadata": {},
   "source": [
    "**(a)** When $A$ is similar to $B = M^{−1}AM$, prove this statement:\n",
    "If $A^k \\rightarrow 0$ when $k \\rightarrow\n",
    "\\infty$, then also $B^k \\rightarrow 0$."
   ]
  },
  {
   "cell_type": "markdown",
   "id": "96708a24",
   "metadata": {},
   "source": [
    "When matrix $A$ is similar to matrix $B$, then both of matrices shre the same eigenvalues $\\Lambda$ matrix.\n",
    "\n",
    "$B = S \\Lambda S^{-1}$. $A^k \\rightarrow 0$ when $k \\rightarrow\n",
    "\\infty$ iff real part of $|\\lambda_{i}|$ < 1, hence $B^k \\rightarrow 0$ when $k \\rightarrow\n",
    "\\infty$."
   ]
  },
  {
   "cell_type": "markdown",
   "id": "c2f11e4b",
   "metadata": {},
   "source": [
    "**(b)** Suppose $S$ is a fixed invertible $3$ by $3$ matrix.<br>\n",
    "This question is about all the matrices $A$ that are diagonalized by $S$, so that\n",
    "$S^{−1}AS$ is diagonal. Show that these matrices $A$ form a subspace of\n",
    "$3$ by $3$ matrix space. (Test the requirements for a subspace.)"
   ]
  },
  {
   "cell_type": "markdown",
   "id": "669386ad",
   "metadata": {},
   "source": [
    "They form a subspace, since $S^{-1}(c_1A + c_2 B)S$ is also a diagonal matrix."
   ]
  },
  {
   "cell_type": "markdown",
   "id": "53f70abc",
   "metadata": {},
   "source": [
    "**(c)** Give a basis for the space of $3$ by $3$ diagonal matrices. Find a basis for the space in part (b)\n",
    "— all the matrices $A$ that are diagonalized by $S$."
   ]
  },
  {
   "cell_type": "markdown",
   "id": "ba6cfaa3",
   "metadata": {},
   "source": [
    "$$\n",
    "\\begin{bmatrix}\n",
    "1 & 0 & 0 \\\\\n",
    "0 & 0 & 0 \\\\\n",
    "0 & 0 & 0 \\\\\n",
    "\\end{bmatrix} \\quad, \n",
    "\\begin{bmatrix}\n",
    "0 & 0 & 0 \\\\\n",
    "0 & 1 & 0 \\\\\n",
    "0 & 0 & 0 \\\\\n",
    "\\end{bmatrix} \\quad, \n",
    "\\begin{bmatrix}\n",
    "0 & 0 & 0 \\\\\n",
    "0 & 0 & 0 \\\\\n",
    "0 & 0 & 1 \\\\\n",
    "\\end{bmatrix}\n",
    "$$"
   ]
  }
 ],
 "metadata": {
  "kernelspec": {
   "display_name": "Python 3 (ipykernel)",
   "language": "python",
   "name": "python3"
  },
  "language_info": {
   "codemirror_mode": {
    "name": "ipython",
    "version": 3
   },
   "file_extension": ".py",
   "mimetype": "text/x-python",
   "name": "python",
   "nbconvert_exporter": "python",
   "pygments_lexer": "ipython3",
   "version": "3.11.5"
  }
 },
 "nbformat": 4,
 "nbformat_minor": 5
}
